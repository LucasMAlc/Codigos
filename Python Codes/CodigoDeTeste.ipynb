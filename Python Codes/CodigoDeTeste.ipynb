{
 "cells": [
  {
   "cell_type": "code",
   "execution_count": 4,
   "id": "86f79d98",
   "metadata": {},
   "outputs": [
    {
     "name": "stdout",
     "output_type": "stream",
     "text": [
      "Hello World\n",
      "0\n",
      "dentro\n",
      "1\n",
      "dentro\n",
      "2\n",
      "dentro\n",
      "3\n",
      "dentro\n",
      "4\n",
      "dentro\n",
      "5\n",
      "dentro\n",
      "6\n",
      "dentro\n",
      "7\n",
      "dentro\n",
      "8\n",
      "dentro\n",
      "9\n",
      "dentro\n",
      "saiu\n"
     ]
    }
   ],
   "source": [
    "print(\"Hello World\")\n",
    "for i in range(10):\n",
    "    print(i)\n",
    "    i += 1\n",
    "print(\"saindo\")\n",
    "    "
   ]
  },
  {
   "cell_type": "code",
   "execution_count": null,
   "id": "fd0faf0e",
   "metadata": {},
   "outputs": [],
   "source": []
  }
 ],
 "metadata": {
  "kernelspec": {
   "display_name": "Python 3 (ipykernel)",
   "language": "python",
   "name": "python3"
  },
  "language_info": {
   "codemirror_mode": {
    "name": "ipython",
    "version": 3
   },
   "file_extension": ".py",
   "mimetype": "text/x-python",
   "name": "python",
   "nbconvert_exporter": "python",
   "pygments_lexer": "ipython3",
   "version": "3.9.12"
  }
 },
 "nbformat": 4,
 "nbformat_minor": 5
}
